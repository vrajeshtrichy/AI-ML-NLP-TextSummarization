{
 "cells": [
  {
   "cell_type": "markdown",
   "id": "81faa8f6",
   "metadata": {},
   "source": [
    "### Summarization using Hugging Face Transformers and BERT-Extractive-Summarizer"
   ]
  },
  {
   "cell_type": "code",
   "execution_count": 1,
   "id": "fa36e103",
   "metadata": {},
   "outputs": [],
   "source": [
    "# !pip install bert-extractive-summarizer"
   ]
  },
  {
   "cell_type": "code",
   "execution_count": 2,
   "id": "3591e1ac",
   "metadata": {},
   "outputs": [
    {
     "name": "stderr",
     "output_type": "stream",
     "text": [
      "2023-03-23 14:34:17.355619: I tensorflow/core/platform/cpu_feature_guard.cc:193] This TensorFlow binary is optimized with oneAPI Deep Neural Network Library (oneDNN) to use the following CPU instructions in performance-critical operations:  AVX2 FMA\n",
      "To enable them in other operations, rebuild TensorFlow with the appropriate compiler flags.\n"
     ]
    }
   ],
   "source": [
    "from summarizer import Summarizer, TransformerSummarizer"
   ]
  },
  {
   "cell_type": "code",
   "execution_count": 3,
   "id": "119ffbc8",
   "metadata": {},
   "outputs": [
    {
     "name": "stdout",
     "output_type": "stream",
     "text": [
      "We have often heard that ‘Cricket is religion in India and Sachin is God’. There is no better statement that can justify the status of Sachin Tendulkar in India. Sachin Tendulkar in India is not just a cricketer, he is God. Also for common people in India, he is an example of hard work and determination. Thus, he is worshipped by everyone in India. The essay on Sachin Tendulkar is a small insight into one of the greatest ever sportsman to have played any game. Sachin Tendulkar was born to a middle-class family and came to limelight with a performance in the school tournament. He held a record partnership at that time with Vinod Kambli playing for their school tournament. That innings changed Sachin’s life completely and he became famous in a fortnight. In those days, the school tournaments had a different fanbase and a good performance can bring you in limelight. Because of that inning, people all over India came to know who Sachin Tendulkar was! Thus, it also caught Indian selector’s eye and Sachin Tendulkar was selected for the tour of Pakistan at an age of 16! At 16 years of age, Sachin was supposed to face the likes of Wasim Akram and Waqar Younis. The Pakistani spearheads were known for their swing and sharp bouncers. Thus, Sachin had a hard time facing Pakistan fast bowlers. Still, he managed to come out with some runs under his belt. Thus, it would justify the Sachin’s selection in the series to come. The series was a memorable experience for Sachin as he also got to spend time with his idols in the Indian dressing room. The real contribution by Sachin Tendulkar to Indian cricket is not the runs he scored or the matches he won. The main contribution by Sachin was the way he changed the opening in ODI cricket. He was given an opportunity to open against New Zealand in New Zealand in 1992 and he made it count. Thus, a very different dimension of Sachin Tendulkar came into light. The major contribution of runs scored by him in ODI cricket is by opening the batting for India. Thus, India got one of the reliable openers in Sachin who can also score at more than run a ball. Soon after he started opening, India started to get good starts and opposition were under pressure right from the start. Thus, there have been many match winnings innings by Sachin since he started opening. One such inning that comes to mind is the ‘desert storm’. He scored two back to back hundreds against the mighty Australians in 1996 and won the series for India. One of the things that made Sachin great was to score against the big sides. He consistently scored hundreds against big teams like Australia, England, and Pakistan. Also, he still is the player with the highest runs against Australia. This in itself shows the caliber of Sachin Tendulkar. Australia in those days was termed as the invincibles. Playing against Australia was always the toughest challenge that a batsman can face in those days. But for Sachin, it was just like scoring against any other team. Sachin Tendulkar will always be remembered as one who changed the Indian cricket and made it a powerhouse. Sachin Tendulkar was born to play cricket only. \n",
      "\n"
     ]
    }
   ],
   "source": [
    "file = open(\"../Data/SachinEssay.txt\", \"r\")\n",
    "fileData = file.readlines()\n",
    "article = fileData[0]\n",
    "print(article)"
   ]
  },
  {
   "cell_type": "code",
   "execution_count": 4,
   "id": "74efb7d0",
   "metadata": {},
   "outputs": [
    {
     "name": "stderr",
     "output_type": "stream",
     "text": [
      "Some weights of the model checkpoint at bert-large-uncased were not used when initializing BertModel: ['cls.predictions.bias', 'cls.predictions.transform.LayerNorm.weight', 'cls.predictions.decoder.weight', 'cls.predictions.transform.dense.bias', 'cls.predictions.transform.dense.weight', 'cls.seq_relationship.bias', 'cls.seq_relationship.weight', 'cls.predictions.transform.LayerNorm.bias']\n",
      "- This IS expected if you are initializing BertModel from the checkpoint of a model trained on another task or with another architecture (e.g. initializing a BertForSequenceClassification model from a BertForPreTraining model).\n",
      "- This IS NOT expected if you are initializing BertModel from the checkpoint of a model that you expect to be exactly identical (initializing a BertForSequenceClassification model from a BertForSequenceClassification model).\n"
     ]
    },
    {
     "name": "stdout",
     "output_type": "stream",
     "text": [
      "We have often heard that ‘Cricket is religion in India and Sachin is God’. In those days, the school tournaments had a different fanbase and a good performance can bring you in limelight. Because of that inning, people all over India came to know who Sachin Tendulkar was! Thus, it also caught Indian selector’s eye and Sachin Tendulkar was selected for the tour of Pakistan at an age of 16! The main contribution by Sachin was the way he changed the opening in ODI cricket. But for Sachin, it was just like scoring against any other team.\n"
     ]
    }
   ],
   "source": [
    "bert_model = Summarizer()\n",
    "bert_summary = ''.join(bert_model(article, min_length=60))\n",
    "print(bert_summary)"
   ]
  },
  {
   "cell_type": "markdown",
   "id": "b41de135",
   "metadata": {},
   "source": [
    "### Summarization using Hugging Face Transformers and GPT-2"
   ]
  },
  {
   "cell_type": "code",
   "execution_count": 5,
   "id": "693b4bb7",
   "metadata": {},
   "outputs": [
    {
     "name": "stdout",
     "output_type": "stream",
     "text": [
      "We have often heard that ‘Cricket is religion in India and Sachin is God’. Sachin Tendulkar in India is not just a cricketer, he is God. Also for common people in India, he is an example of hard work and determination. Thus, a very different dimension of Sachin Tendulkar came into light. The major contribution of runs scored by him in ODI cricket is by opening the batting for India. One of the things that made Sachin great was to score against the big sides.\n"
     ]
    }
   ],
   "source": [
    "GPT2_model = TransformerSummarizer(transformer_type=\"GPT2\",transformer_model_key=\"gpt2-medium\")\n",
    "gpt2_summary = ''.join(GPT2_model(article, min_length=60))\n",
    "print(gpt2_summary)"
   ]
  },
  {
   "cell_type": "markdown",
   "id": "f956cde5",
   "metadata": {},
   "source": [
    "### Summarization using Hugging Face Transformers and XLNet"
   ]
  },
  {
   "cell_type": "code",
   "execution_count": 6,
   "id": "3c3ee1d0",
   "metadata": {},
   "outputs": [
    {
     "name": "stderr",
     "output_type": "stream",
     "text": [
      "Some weights of the model checkpoint at xlnet-base-cased were not used when initializing XLNetModel: ['lm_loss.bias', 'lm_loss.weight']\n",
      "- This IS expected if you are initializing XLNetModel from the checkpoint of a model trained on another task or with another architecture (e.g. initializing a BertForSequenceClassification model from a BertForPreTraining model).\n",
      "- This IS NOT expected if you are initializing XLNetModel from the checkpoint of a model that you expect to be exactly identical (initializing a BertForSequenceClassification model from a BertForSequenceClassification model).\n"
     ]
    },
    {
     "name": "stdout",
     "output_type": "stream",
     "text": [
      "We have often heard that ‘Cricket is religion in India and Sachin is God’. That innings changed Sachin’s life completely and he became famous in a fortnight. The Pakistani spearheads were known for their swing and sharp bouncers. The real contribution by Sachin Tendulkar to Indian cricket is not the runs he scored or the matches he won. Thus, there have been many match winnings innings by Sachin since he started opening. Sachin Tendulkar will always be remembered as one who changed the Indian cricket and made it a powerhouse.\n"
     ]
    }
   ],
   "source": [
    "XLNet_model = TransformerSummarizer(transformer_type=\"XLNet\",transformer_model_key=\"xlnet-base-cased\")\n",
    "xlnet_summary = ''.join(XLNet_model(article, min_length=60))\n",
    "print(xlnet_summary)"
   ]
  },
  {
   "cell_type": "markdown",
   "id": "64325796",
   "metadata": {},
   "source": [
    "### Summarization using Hugging Face Transformers and BERT-Extractive-Summarizer"
   ]
  },
  {
   "cell_type": "code",
   "execution_count": 7,
   "id": "7a7d8d01",
   "metadata": {},
   "outputs": [
    {
     "name": "stderr",
     "output_type": "stream",
     "text": [
      "/Users/rajeshkanna/opt/anaconda3/lib/python3.9/site-packages/transformers/models/t5/tokenization_t5.py:163: FutureWarning: This tokenizer was incorrectly instantiated with a model max length of 512 which will be corrected in Transformers v5.\n",
      "For now, this behavior is kept to avoid breaking backwards compatibility when padding/encoding with `truncation is True`.\n",
      "- Be aware that you SHOULD NOT rely on t5-base automatically truncating your input to 512 when padding/encoding.\n",
      "- If you want to encode/pad to sequences longer than 512 you can either instantiate this tokenizer with `model_max_length` or pass `max_length` when encoding/padding.\n",
      "- To avoid this warning, please instantiate this tokenizer with `model_max_length` set to your preferred value.\n",
      "  warnings.warn(\n"
     ]
    }
   ],
   "source": [
    "from transformers import T5ForConditionalGeneration, T5Tokenizer\n",
    "\n",
    "# initialize the model architecture and weights\n",
    "model = T5ForConditionalGeneration.from_pretrained(\"t5-base\")\n",
    "# initialize the model tokenizer\n",
    "tokenizer = T5Tokenizer.from_pretrained(\"t5-base\")"
   ]
  },
  {
   "cell_type": "code",
   "execution_count": 8,
   "id": "e5c86b75",
   "metadata": {},
   "outputs": [],
   "source": [
    "# encode the text into tensor of integers using the appropriate tokenizer\n",
    "inputs = tokenizer.encode(\"summarize: \" + article, return_tensors=\"pt\", max_length=512, truncation=True)"
   ]
  },
  {
   "cell_type": "code",
   "execution_count": 9,
   "id": "6dc82aaa",
   "metadata": {},
   "outputs": [
    {
     "name": "stdout",
     "output_type": "stream",
     "text": [
      "<pad> Sachin Tendulkar was born to a middle-class family and came to limelight with a performance in the school tournament. that innings changed his life completely and he became famous in a fortnight. he was selected for the tour of Pakistan at an age of 16. the main contribution by Sachin was the way he changed the opening in ODI cricket.</s>\n"
     ]
    }
   ],
   "source": [
    "# generate the summarization output\n",
    "outputs = model.generate(\n",
    "    inputs, \n",
    "    max_length=150, \n",
    "    min_length=60, \n",
    "    length_penalty=2.0, \n",
    "    num_beams=4, \n",
    "    early_stopping=True)\n",
    "print(tokenizer.decode(outputs[0]))"
   ]
  }
 ],
 "metadata": {
  "kernelspec": {
   "display_name": "Python 3 (ipykernel)",
   "language": "python",
   "name": "python3"
  },
  "language_info": {
   "codemirror_mode": {
    "name": "ipython",
    "version": 3
   },
   "file_extension": ".py",
   "mimetype": "text/x-python",
   "name": "python",
   "nbconvert_exporter": "python",
   "pygments_lexer": "ipython3",
   "version": "3.9.12"
  }
 },
 "nbformat": 4,
 "nbformat_minor": 5
}
