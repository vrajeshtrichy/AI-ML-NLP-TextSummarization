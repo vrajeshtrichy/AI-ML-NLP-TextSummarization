{
 "cells": [
  {
   "cell_type": "markdown",
   "id": "ddc44d43",
   "metadata": {},
   "source": [
    "### Importing Libraries"
   ]
  },
  {
   "cell_type": "code",
   "execution_count": 1,
   "id": "3bcb03ee",
   "metadata": {},
   "outputs": [],
   "source": [
    "import numpy as np\n",
    "import networkx as nx\n",
    "\n",
    "from sklearn.feature_extraction.text import TfidfVectorizer"
   ]
  },
  {
   "cell_type": "markdown",
   "id": "8f120477",
   "metadata": {},
   "source": [
    "### Cleaning punctuations"
   ]
  },
  {
   "cell_type": "code",
   "execution_count": 2,
   "id": "44ee1f3f",
   "metadata": {},
   "outputs": [],
   "source": [
    "def read_article(file_name):\n",
    "    file = open(file_name, \"r\")\n",
    "    filedata = file.readlines()\n",
    "    article = filedata[0].split(\". \")\n",
    "    sentences = []\n",
    "    for sentence in article:\n",
    "        sentences.append(sentence.replace(\"[^a-zA-Z]\", \" \"))\n",
    "    return article, sentences"
   ]
  },
  {
   "cell_type": "markdown",
   "id": "8ba67ad3",
   "metadata": {},
   "source": [
    "### Similarity Matrix\n",
    "Using Cosine similarity to find similarity between sentences"
   ]
  },
  {
   "cell_type": "code",
   "execution_count": 3,
   "id": "8240e70c",
   "metadata": {},
   "outputs": [],
   "source": [
    "def build_similarity_matrix(sentences):\n",
    "    similarity_matrix = np.zeros((len(sentences), len(sentences)))\n",
    "    \n",
    "    vect = TfidfVectorizer(min_df=1, stop_words=\"english\")\n",
    "    tfidf = vect.fit_transform(sentences) \n",
    "    pairwise_similarity = tfidf * tfidf.T \n",
    "    similarity_matrix = pairwise_similarity.toarray()\n",
    "    \n",
    "    return similarity_matrix"
   ]
  },
  {
   "cell_type": "markdown",
   "id": "a18355af",
   "metadata": {},
   "source": [
    "### Generate Summary method"
   ]
  },
  {
   "cell_type": "code",
   "execution_count": 4,
   "id": "0c694277",
   "metadata": {},
   "outputs": [],
   "source": [
    "def generate_summary(file_name, top_n=5):\n",
    "    summarize_text = []\n",
    "    \n",
    "    # Step 1 – Read the text and tokenize\n",
    "    article, sentences =  read_article(file_name)\n",
    "\n",
    "    # Step 2 – Generate Similarly Matrix across sentences\n",
    "    sentence_similarity_martix = build_similarity_matrix(sentences)\n",
    "    \n",
    "    # Step 3 – Rank sentences in the similarity matrix\n",
    "    sentence_similarity_graph = nx.from_numpy_array(sentence_similarity_martix)\n",
    "    scores = nx.pagerank(sentence_similarity_graph)\n",
    "    \n",
    "    # Step 4 – Sort the rank and pick top sentences\n",
    "    ranked_sentence = sorted(((scores[i],s) for i,s in enumerate(sentences)), reverse=True)\n",
    "    for i in range(top_n):\n",
    "        summarize_text.append(ranked_sentence[i][1])\n",
    "    \n",
    "    summarized_text = \". \".join(summarize_text)\n",
    "    article = \". \".join(article)\n",
    "    \n",
    "    return article, summarized_text"
   ]
  },
  {
   "cell_type": "markdown",
   "id": "e271b971",
   "metadata": {},
   "source": [
    "### Testing"
   ]
  },
  {
   "cell_type": "code",
   "execution_count": 5,
   "id": "e02461da",
   "metadata": {},
   "outputs": [
    {
     "name": "stdout",
     "output_type": "stream",
     "text": [
      "Original Article: \n",
      " We have often heard that ‘Cricket is religion in India and Sachin is God’. There is no better statement that can justify the status of Sachin Tendulkar in India. Sachin Tendulkar in India is not just a cricketer, he is God. Also for common people in India, he is an example of hard work and determination. Thus, he is worshipped by everyone in India. The essay on Sachin Tendulkar is a small insight into one of the greatest ever sportsman to have played any game. Sachin Tendulkar was born to a middle-class family and came to limelight with a performance in the school tournament. He held a record partnership at that time with Vinod Kambli playing for their school tournament. That innings changed Sachin’s life completely and he became famous in a fortnight. In those days, the school tournaments had a different fanbase and a good performance can bring you in limelight. Because of that inning, people all over India came to know who Sachin Tendulkar was! Thus, it also caught Indian selector’s eye and Sachin Tendulkar was selected for the tour of Pakistan at an age of 16! At 16 years of age, Sachin was supposed to face the likes of Wasim Akram and Waqar Younis. The Pakistani spearheads were known for their swing and sharp bouncers. Thus, Sachin had a hard time facing Pakistan fast bowlers. Still, he managed to come out with some runs under his belt. Thus, it would justify the Sachin’s selection in the series to come. The series was a memorable experience for Sachin as he also got to spend time with his idols in the Indian dressing room. The real contribution by Sachin Tendulkar to Indian cricket is not the runs he scored or the matches he won. The main contribution by Sachin was the way he changed the opening in ODI cricket. He was given an opportunity to open against New Zealand in New Zealand in 1992 and he made it count. Thus, a very different dimension of Sachin Tendulkar came into light. The major contribution of runs scored by him in ODI cricket is by opening the batting for India. Thus, India got one of the reliable openers in Sachin who can also score at more than run a ball. Soon after he started opening, India started to get good starts and opposition were under pressure right from the start. Thus, there have been many match winnings innings by Sachin since he started opening. One such inning that comes to mind is the ‘desert storm’. He scored two back to back hundreds against the mighty Australians in 1996 and won the series for India. One of the things that made Sachin great was to score against the big sides. He consistently scored hundreds against big teams like Australia, England, and Pakistan. Also, he still is the player with the highest runs against Australia. This in itself shows the caliber of Sachin Tendulkar. Australia in those days was termed as the invincibles. Playing against Australia was always the toughest challenge that a batsman can face in those days. But for Sachin, it was just like scoring against any other team. Sachin Tendulkar will always be remembered as one who changed the Indian cricket and made it a powerhouse. Sachin Tendulkar was born to play cricket only. \n",
      "\n",
      "Summarized Text: \n",
      " There is no better statement that can justify the status of Sachin Tendulkar in India. Sachin Tendulkar in India is not just a cricketer, he is God. The series was a memorable experience for Sachin as he also got to spend time with his idols in the Indian dressing room. The real contribution by Sachin Tendulkar to Indian cricket is not the runs he scored or the matches he won. But for Sachin, it was just like scoring against any other team. Sachin Tendulkar will always be remembered as one who changed the Indian cricket and made it a powerhouse. The major contribution of runs scored by him in ODI cricket is by opening the batting for India. Because of that inning, people all over India came to know who Sachin Tendulkar was! Thus, it also caught Indian selector’s eye and Sachin Tendulkar was selected for the tour of Pakistan at an age of 16! At 16 years of age, Sachin was supposed to face the likes of Wasim Akram and Waqar Younis\n"
     ]
    }
   ],
   "source": [
    "article, summarized_text = generate_summary( \"../Data/SachinEssay.txt\",5)\n",
    "print(\"Original Article: \\n\", article)\n",
    "print(\"Summarized Text: \\n\", summarized_text)"
   ]
  }
 ],
 "metadata": {
  "kernelspec": {
   "display_name": "Python 3 (ipykernel)",
   "language": "python",
   "name": "python3"
  },
  "language_info": {
   "codemirror_mode": {
    "name": "ipython",
    "version": 3
   },
   "file_extension": ".py",
   "mimetype": "text/x-python",
   "name": "python",
   "nbconvert_exporter": "python",
   "pygments_lexer": "ipython3",
   "version": "3.9.12"
  }
 },
 "nbformat": 4,
 "nbformat_minor": 5
}
